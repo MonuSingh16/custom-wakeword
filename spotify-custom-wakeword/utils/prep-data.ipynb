{
 "cells": [
  {
   "cell_type": "code",
   "execution_count": 1,
   "metadata": {},
   "outputs": [],
   "source": [
    "import sounddevice as sd # Record sound device and write as numpy array\n",
    "from scipy.io.wavfile import write # Convert the numpy array to wave file"
   ]
  },
  {
   "cell_type": "code",
   "execution_count": 2,
   "metadata": {},
   "outputs": [],
   "source": [
    "def record_audio_and_save(save_path, n_times=50):\n",
    "    \"\"\"\n",
    "    This function will run `n_times` and everytime you press Enter you have to speak the wake word\n",
    "    Parameters\n",
    "    ----------\n",
    "    n_times: int, default=50\n",
    "        The function will run n_times default is set to 50.\n",
    "    save_path: str\n",
    "        Where to save the wav file which is generated in every iteration.\n",
    "    \"\"\"\n",
    "\n",
    "    input(\"To start recording Wake Word press Enter: \")\n",
    "    for i in range(n_times):\n",
    "        fs = 44100\n",
    "        seconds = 2\n",
    "\n",
    "        myrecording = sd.rec(int(seconds * fs), samplerate=fs, channels=1)\n",
    "        sd.wait()\n",
    "        write(save_path + str(i) + \".wav\", fs, myrecording)\n",
    "        input(f\"Press to record next or two stop press ctrl + C ({i + 1}/{n_times}): \")\n"
   ]
  },
  {
   "cell_type": "code",
   "execution_count": 5,
   "metadata": {},
   "outputs": [
    {
     "name": "stdout",
     "output_type": "stream",
     "text": [
      "Recording the Wake Word:\n",
      "\n"
     ]
    }
   ],
   "source": [
    "# Step 1: Record yourself saying the Wake Word\n",
    "print(\"Recording the Wake Word:\\n\")\n",
    "\n",
    "record_audio_and_save(\"wake_word/\", n_times=100)"
   ]
  },
  {
   "cell_type": "code",
   "execution_count": 6,
   "metadata": {},
   "outputs": [],
   "source": [
    "def record_background_sound(save_path, n_times=50):\n",
    "    \"\"\"\n",
    "    This function will run automatically `n_times` and record your background sounds so you can make some\n",
    "    keybaord typing sound and saying something gibberish.\n",
    "    Note: Keep in mind that you DON'T have to say the wake word this time.\n",
    "    Parameters\n",
    "    ----------\n",
    "    n_times: int, default=50\n",
    "        The function will run n_times default is set to 50.\n",
    "    save_path: str\n",
    "        Where to save the wav file which is generated in every iteration.\n",
    "        Note: DON'T set it to the same directory where you have saved the wake word or it will overwrite the files.\n",
    "    \"\"\"\n",
    "\n",
    "    input(\"To start recording your background sounds press Enter: \")\n",
    "    for i in range(n_times):\n",
    "        fs = 44100\n",
    "        seconds = 2 \n",
    "\n",
    "        myrecording = sd.rec(int(seconds * fs), samplerate=fs, channels=1)\n",
    "        sd.wait()\n",
    "        write(save_path + str(i) + \".wav\", fs, myrecording)\n",
    "        print(f\"Currently on {i+1}/{n_times}\")\n"
   ]
  },
  {
   "cell_type": "code",
   "execution_count": 7,
   "metadata": {},
   "outputs": [
    {
     "name": "stdout",
     "output_type": "stream",
     "text": [
      "Recording the Background sounds:\n",
      "\n",
      "Currently on 1/100\n",
      "Currently on 2/100\n",
      "Currently on 3/100\n",
      "Currently on 4/100\n",
      "Currently on 5/100\n",
      "Currently on 6/100\n",
      "Currently on 7/100\n",
      "Currently on 8/100\n",
      "Currently on 9/100\n",
      "Currently on 10/100\n",
      "Currently on 11/100\n",
      "Currently on 12/100\n",
      "Currently on 13/100\n",
      "Currently on 14/100\n",
      "Currently on 15/100\n",
      "Currently on 16/100\n",
      "Currently on 17/100\n",
      "Currently on 18/100\n",
      "Currently on 19/100\n",
      "Currently on 20/100\n",
      "Currently on 21/100\n",
      "Currently on 22/100\n",
      "Currently on 23/100\n",
      "Currently on 24/100\n",
      "Currently on 25/100\n",
      "Currently on 26/100\n",
      "Currently on 27/100\n",
      "Currently on 28/100\n",
      "Currently on 29/100\n",
      "Currently on 30/100\n",
      "Currently on 31/100\n",
      "Currently on 32/100\n",
      "Currently on 33/100\n",
      "Currently on 34/100\n",
      "Currently on 35/100\n",
      "Currently on 36/100\n",
      "Currently on 37/100\n",
      "Currently on 38/100\n",
      "Currently on 39/100\n",
      "Currently on 40/100\n",
      "Currently on 41/100\n",
      "Currently on 42/100\n",
      "Currently on 43/100\n",
      "Currently on 44/100\n",
      "Currently on 45/100\n",
      "Currently on 46/100\n",
      "Currently on 47/100\n",
      "Currently on 48/100\n",
      "Currently on 49/100\n",
      "Currently on 50/100\n",
      "Currently on 51/100\n",
      "Currently on 52/100\n",
      "Currently on 53/100\n",
      "Currently on 54/100\n",
      "Currently on 55/100\n",
      "Currently on 56/100\n",
      "Currently on 57/100\n",
      "Currently on 58/100\n",
      "Currently on 59/100\n",
      "Currently on 60/100\n",
      "Currently on 61/100\n",
      "Currently on 62/100\n",
      "Currently on 63/100\n",
      "Currently on 64/100\n",
      "Currently on 65/100\n",
      "Currently on 66/100\n",
      "Currently on 67/100\n",
      "Currently on 68/100\n",
      "Currently on 69/100\n",
      "Currently on 70/100\n",
      "Currently on 71/100\n",
      "Currently on 72/100\n",
      "Currently on 73/100\n",
      "Currently on 74/100\n",
      "Currently on 75/100\n",
      "Currently on 76/100\n",
      "Currently on 77/100\n",
      "Currently on 78/100\n",
      "Currently on 79/100\n",
      "Currently on 80/100\n",
      "Currently on 81/100\n",
      "Currently on 82/100\n",
      "Currently on 83/100\n",
      "Currently on 84/100\n",
      "Currently on 85/100\n",
      "Currently on 86/100\n",
      "Currently on 87/100\n",
      "Currently on 88/100\n",
      "Currently on 89/100\n",
      "Currently on 90/100\n",
      "Currently on 91/100\n",
      "Currently on 92/100\n",
      "Currently on 93/100\n",
      "Currently on 94/100\n",
      "Currently on 95/100\n",
      "Currently on 96/100\n",
      "Currently on 97/100\n",
      "Currently on 98/100\n",
      "Currently on 99/100\n",
      "Currently on 100/100\n"
     ]
    }
   ],
   "source": [
    "# Step 2: Record your background sounds (Just let it run, it will automatically record)\n",
    "print(\"Recording the Background sounds:\\n\")\n",
    "record_background_sound(\"other_words/\", n_times=100)"
   ]
  },
  {
   "cell_type": "code",
   "execution_count": null,
   "metadata": {},
   "outputs": [],
   "source": []
  }
 ],
 "metadata": {
  "kernelspec": {
   "display_name": "Python 3.9.12 ('venv-cap')",
   "language": "python",
   "name": "python3"
  },
  "language_info": {
   "codemirror_mode": {
    "name": "ipython",
    "version": 3
   },
   "file_extension": ".py",
   "mimetype": "text/x-python",
   "name": "python",
   "nbconvert_exporter": "python",
   "pygments_lexer": "ipython3",
   "version": "3.9.12"
  },
  "orig_nbformat": 4,
  "vscode": {
   "interpreter": {
    "hash": "465a81004c8b420629bbf4c7d2ffa80bdc6dadbd248db23b3c6cc795d720962d"
   }
  }
 },
 "nbformat": 4,
 "nbformat_minor": 2
}
