{
 "cells": [
  {
   "cell_type": "code",
   "execution_count": 7,
   "metadata": {},
   "outputs": [],
   "source": [
    "######## IMPORTS ##########\n",
    "import threading\n",
    "import sounddevice as sd\n",
    "from scipy.io.wavfile import write\n",
    "import librosa\n",
    "import numpy as np\n",
    "import time\n",
    "from tensorflow.keras.models import load_model\n",
    "import pyttsx3"
   ]
  },
  {
   "cell_type": "code",
   "execution_count": 8,
   "metadata": {},
   "outputs": [],
   "source": [
    "####### ALL CONSTANTS #####\n",
    "fs = 44100\n",
    "seconds = 2\n",
    "filename = \"prediction.wav\"\n",
    "class_names = [\"Wake Word NOT Detected\", \"Wake Word Detected\"]"
   ]
  },
  {
   "cell_type": "code",
   "execution_count": 9,
   "metadata": {},
   "outputs": [],
   "source": [
    "##### LOADING OUR SAVED MODEL and PREDICTING ###\n",
    "model = load_model(\"saved_model/WWD.h5\")"
   ]
  },
  {
   "cell_type": "code",
   "execution_count": null,
   "metadata": {},
   "outputs": [
    {
     "name": "stdout",
     "output_type": "stream",
     "text": [
      "1/1 [==============================] - 0s 61ms/step\n"
     ]
    },
    {
     "name": "stderr",
     "output_type": "stream",
     "text": [
      "Exception in thread PredictFunction:\n",
      "Traceback (most recent call last):\n",
      "  File \"/Users/monusingh/opt/miniconda3/envs/venv-cap/lib/python3.9/threading.py\", line 973, in _bootstrap_inner\n",
      "    self.run()\n",
      "  File \"/Users/monusingh/opt/miniconda3/envs/venv-cap/lib/python3.9/threading.py\", line 910, in run\n",
      "    self._target(*self._args, **self._kwargs)\n",
      "  File \"/var/folders/0l/p7lzlqxn44b036b_3ykx4tlr0000gn/T/ipykernel_82709/293579260.py\", line 18, in prediction\n",
      "NameError: name 'engine' is not defined\n"
     ]
    },
    {
     "name": "stdout",
     "output_type": "stream",
     "text": [
      "1/1 [==============================] - 0s 33ms/step\n"
     ]
    },
    {
     "name": "stderr",
     "output_type": "stream",
     "text": [
      "Exception in thread PredictFunction:\n",
      "Traceback (most recent call last):\n",
      "  File \"/Users/monusingh/opt/miniconda3/envs/venv-cap/lib/python3.9/threading.py\", line 973, in _bootstrap_inner\n",
      "    self.run()\n",
      "  File \"/Users/monusingh/opt/miniconda3/envs/venv-cap/lib/python3.9/threading.py\", line 910, in run\n",
      "    self._target(*self._args, **self._kwargs)\n",
      "  File \"/var/folders/0l/p7lzlqxn44b036b_3ykx4tlr0000gn/T/ipykernel_82709/293579260.py\", line 18, in prediction\n",
      "NameError: name 'engine' is not defined\n"
     ]
    },
    {
     "name": "stdout",
     "output_type": "stream",
     "text": [
      "1/1 [==============================] - 0s 15ms/step\n",
      "1/1 [==============================] - 0s 12ms/step\n",
      "1/1 [==============================] - 0s 12ms/step\n",
      "1/1 [==============================] - 0s 13ms/step\n",
      "1/1 [==============================] - 0s 18ms/step\n",
      "1/1 [==============================] - 0s 12ms/step\n"
     ]
    },
    {
     "name": "stderr",
     "output_type": "stream",
     "text": [
      "Exception in thread PredictFunction:\n",
      "Traceback (most recent call last):\n",
      "  File \"/Users/monusingh/opt/miniconda3/envs/venv-cap/lib/python3.9/threading.py\", line 973, in _bootstrap_inner\n",
      "    self.run()\n",
      "  File \"/Users/monusingh/opt/miniconda3/envs/venv-cap/lib/python3.9/threading.py\", line 910, in run\n",
      "    self._target(*self._args, **self._kwargs)\n",
      "  File \"/var/folders/0l/p7lzlqxn44b036b_3ykx4tlr0000gn/T/ipykernel_82709/293579260.py\", line 18, in prediction\n",
      "NameError: name 'engine' is not defined\n"
     ]
    },
    {
     "name": "stdout",
     "output_type": "stream",
     "text": [
      "1/1 [==============================] - 0s 11ms/step\n",
      "1/1 [==============================] - 0s 13ms/step\n"
     ]
    },
    {
     "name": "stderr",
     "output_type": "stream",
     "text": [
      "Exception in thread PredictFunction:\n",
      "Traceback (most recent call last):\n",
      "  File \"/Users/monusingh/opt/miniconda3/envs/venv-cap/lib/python3.9/threading.py\", line 973, in _bootstrap_inner\n",
      "    self.run()\n",
      "  File \"/Users/monusingh/opt/miniconda3/envs/venv-cap/lib/python3.9/threading.py\", line 910, in run\n",
      "    self._target(*self._args, **self._kwargs)\n",
      "  File \"/var/folders/0l/p7lzlqxn44b036b_3ykx4tlr0000gn/T/ipykernel_82709/293579260.py\", line 18, in prediction\n",
      "NameError: name 'engine' is not defined\n"
     ]
    },
    {
     "name": "stdout",
     "output_type": "stream",
     "text": [
      "1/1 [==============================] - 0s 18ms/step\n",
      "1/1 [==============================] - 0s 13ms/step\n",
      "1/1 [==============================] - 0s 15ms/step\n"
     ]
    }
   ],
   "source": [
    "def listener():\n",
    "    while True:\n",
    "        myrecording = sd.rec(int(seconds * fs), samplerate=fs, channels=1)\n",
    "        sd.wait()\n",
    "        mfcc = librosa.feature.mfcc(y=myrecording.ravel(), sr=fs, n_mfcc=40)\n",
    "        mfcc_processed = np.mean(mfcc.T, axis=0)\n",
    "        prediction_thread(mfcc_processed)\n",
    "        time.sleep(0.001)\n",
    "\n",
    "def voice_thread():\n",
    "    listen_thread = threading.Thread(target=listener, name=\"ListeningFunction\")\n",
    "    listen_thread.start()\n",
    "\n",
    "##### PREDICTION THREAD #############\n",
    "def prediction(y):\n",
    "    prediction = model.predict(np.expand_dims(y, axis=0))\n",
    "    if prediction[:, 1] > 0.96:\n",
    "        if engine._inLoop:\n",
    "            engine.endLoop()\n",
    "\n",
    "        speak(\"Hello, What can I do for you?\")\n",
    "        \n",
    "\n",
    "    time.sleep(0.1)\n",
    "\n",
    "def prediction_thread(y):\n",
    "    pred_thread = threading.Thread(target=prediction, name=\"PredictFunction\", args=(y,))\n",
    "    pred_thread.start()\n",
    "\n",
    "voice_thread()"
   ]
  },
  {
   "cell_type": "code",
   "execution_count": 6,
   "metadata": {},
   "outputs": [
    {
     "name": "stdout",
     "output_type": "stream",
     "text": [
      "Prediction Started: \n",
      "Say Now: \n",
      "1/1 [==============================] - 0s 149ms/step\n"
     ]
    },
    {
     "name": "stderr",
     "output_type": "stream",
     "text": [
      "2023-02-18 12:39:22.247114: W tensorflow/tsl/platform/profile_utils/cpu_utils.cc:128] Failed to get CPU frequency: 0 Hz\n"
     ]
    },
    {
     "name": "stdout",
     "output_type": "stream",
     "text": [
      "Wake Word Detected for (0)\n",
      "Confidence: [0.99999106]\n",
      "Say Now: \n",
      "1/1 [==============================] - 0s 13ms/step\n",
      "Wake Word Detected for (1)\n",
      "Confidence: [0.9983051]\n",
      "Say Now: \n",
      "1/1 [==============================] - 0s 13ms/step\n",
      "Wake Word NOT Detected\n",
      "Confidence: [0.06185668]\n",
      "Say Now: \n",
      "1/1 [==============================] - 0s 16ms/step\n",
      "Wake Word NOT Detected\n",
      "Confidence: [0.9832933]\n",
      "Say Now: \n",
      "1/1 [==============================] - 0s 25ms/step\n",
      "Wake Word NOT Detected\n",
      "Confidence: [0.35003173]\n",
      "Say Now: \n",
      "1/1 [==============================] - 0s 14ms/step\n",
      "Wake Word NOT Detected\n",
      "Confidence: [0.9999963]\n",
      "Say Now: \n",
      "1/1 [==============================] - 0s 21ms/step\n",
      "Wake Word NOT Detected\n",
      "Confidence: [0.99968815]\n",
      "Say Now: \n"
     ]
    },
    {
     "ename": "KeyboardInterrupt",
     "evalue": "",
     "output_type": "error",
     "traceback": [
      "\u001b[0;31m---------------------------------------------------------------------------\u001b[0m",
      "\u001b[0;31mKeyboardInterrupt\u001b[0m                         Traceback (most recent call last)",
      "Cell \u001b[0;32mIn[6], line 6\u001b[0m\n\u001b[1;32m      4\u001b[0m \u001b[38;5;28mprint\u001b[39m(\u001b[38;5;124m\"\u001b[39m\u001b[38;5;124mSay Now: \u001b[39m\u001b[38;5;124m\"\u001b[39m)\n\u001b[1;32m      5\u001b[0m myrecording \u001b[38;5;241m=\u001b[39m sd\u001b[38;5;241m.\u001b[39mrec(\u001b[38;5;28mint\u001b[39m(seconds \u001b[38;5;241m*\u001b[39m fs), samplerate\u001b[38;5;241m=\u001b[39mfs, channels\u001b[38;5;241m=\u001b[39m\u001b[38;5;241m1\u001b[39m)\n\u001b[0;32m----> 6\u001b[0m \u001b[43msd\u001b[49m\u001b[38;5;241;43m.\u001b[39;49m\u001b[43mwait\u001b[49m\u001b[43m(\u001b[49m\u001b[43m)\u001b[49m\n\u001b[1;32m      7\u001b[0m write(filename, fs, myrecording)\n\u001b[1;32m      9\u001b[0m audio, sample_rate \u001b[38;5;241m=\u001b[39m librosa\u001b[38;5;241m.\u001b[39mload(filename)\n",
      "File \u001b[0;32m~/opt/miniconda3/envs/venv-cap/lib/python3.9/site-packages/sounddevice.py:395\u001b[0m, in \u001b[0;36mwait\u001b[0;34m(ignore_errors)\u001b[0m\n\u001b[1;32m    379\u001b[0m \u001b[39m\"\"\"Wait for `play()`/`rec()`/`playrec()` to be finished.\u001b[39;00m\n\u001b[1;32m    380\u001b[0m \n\u001b[1;32m    381\u001b[0m \u001b[39mPlayback/recording can be stopped with a `KeyboardInterrupt`.\u001b[39;00m\n\u001b[0;32m   (...)\u001b[0m\n\u001b[1;32m    392\u001b[0m \n\u001b[1;32m    393\u001b[0m \u001b[39m\"\"\"\u001b[39;00m\n\u001b[1;32m    394\u001b[0m \u001b[39mif\u001b[39;00m _last_callback:\n\u001b[0;32m--> 395\u001b[0m     \u001b[39mreturn\u001b[39;00m _last_callback\u001b[39m.\u001b[39;49mwait(ignore_errors)\n",
      "File \u001b[0;32m~/opt/miniconda3/envs/venv-cap/lib/python3.9/site-packages/sounddevice.py:2601\u001b[0m, in \u001b[0;36m_CallbackContext.wait\u001b[0;34m(self, ignore_errors)\u001b[0m\n\u001b[1;32m   2595\u001b[0m \u001b[39m\"\"\"Wait for finished_callback.\u001b[39;00m\n\u001b[1;32m   2596\u001b[0m \n\u001b[1;32m   2597\u001b[0m \u001b[39mCan be interrupted with a KeyboardInterrupt.\u001b[39;00m\n\u001b[1;32m   2598\u001b[0m \n\u001b[1;32m   2599\u001b[0m \u001b[39m\"\"\"\u001b[39;00m\n\u001b[1;32m   2600\u001b[0m \u001b[39mtry\u001b[39;00m:\n\u001b[0;32m-> 2601\u001b[0m     \u001b[39mself\u001b[39;49m\u001b[39m.\u001b[39;49mevent\u001b[39m.\u001b[39;49mwait()\n\u001b[1;32m   2602\u001b[0m \u001b[39mfinally\u001b[39;00m:\n\u001b[1;32m   2603\u001b[0m     \u001b[39mself\u001b[39m\u001b[39m.\u001b[39mstream\u001b[39m.\u001b[39mclose(ignore_errors)\n",
      "File \u001b[0;32m~/opt/miniconda3/envs/venv-cap/lib/python3.9/threading.py:574\u001b[0m, in \u001b[0;36mEvent.wait\u001b[0;34m(self, timeout)\u001b[0m\n\u001b[1;32m    572\u001b[0m signaled \u001b[39m=\u001b[39m \u001b[39mself\u001b[39m\u001b[39m.\u001b[39m_flag\n\u001b[1;32m    573\u001b[0m \u001b[39mif\u001b[39;00m \u001b[39mnot\u001b[39;00m signaled:\n\u001b[0;32m--> 574\u001b[0m     signaled \u001b[39m=\u001b[39m \u001b[39mself\u001b[39;49m\u001b[39m.\u001b[39;49m_cond\u001b[39m.\u001b[39;49mwait(timeout)\n\u001b[1;32m    575\u001b[0m \u001b[39mreturn\u001b[39;00m signaled\n",
      "File \u001b[0;32m~/opt/miniconda3/envs/venv-cap/lib/python3.9/threading.py:312\u001b[0m, in \u001b[0;36mCondition.wait\u001b[0;34m(self, timeout)\u001b[0m\n\u001b[1;32m    310\u001b[0m \u001b[39mtry\u001b[39;00m:    \u001b[39m# restore state no matter what (e.g., KeyboardInterrupt)\u001b[39;00m\n\u001b[1;32m    311\u001b[0m     \u001b[39mif\u001b[39;00m timeout \u001b[39mis\u001b[39;00m \u001b[39mNone\u001b[39;00m:\n\u001b[0;32m--> 312\u001b[0m         waiter\u001b[39m.\u001b[39;49macquire()\n\u001b[1;32m    313\u001b[0m         gotit \u001b[39m=\u001b[39m \u001b[39mTrue\u001b[39;00m\n\u001b[1;32m    314\u001b[0m     \u001b[39melse\u001b[39;00m:\n",
      "\u001b[0;31mKeyboardInterrupt\u001b[0m: "
     ]
    }
   ],
   "source": [
    "print(\"Prediction Started: \")\n",
    "i = 0\n",
    "while True:\n",
    "    print(\"Say Now: \")\n",
    "    myrecording = sd.rec(int(seconds * fs), samplerate=fs, channels=1)\n",
    "    sd.wait()\n",
    "    write(filename, fs, myrecording)\n",
    "\n",
    "    audio, sample_rate = librosa.load(filename)\n",
    "    mfcc = librosa.feature.mfcc(y=audio, sr=sample_rate, n_mfcc=40)\n",
    "    mfcc_processed = np.mean(mfcc.T, axis=0)\n",
    "\n",
    "    prediction = model.predict(np.expand_dims(mfcc_processed, axis=0))\n",
    "    if prediction[:, 1] > 0.99:\n",
    "        print(f\"Wake Word Detected for ({i})\")\n",
    "        print(\"Confidence:\", prediction[:, 1])\n",
    "        i += 1\n",
    "    \n",
    "    else:\n",
    "        print(f\"Wake Word NOT Detected\")\n",
    "        print(\"Confidence:\", prediction[:, 0])"
   ]
  },
  {
   "cell_type": "code",
   "execution_count": null,
   "metadata": {},
   "outputs": [],
   "source": []
  }
 ],
 "metadata": {
  "kernelspec": {
   "display_name": "Python 3.9.12 ('venv-cap')",
   "language": "python",
   "name": "python3"
  },
  "language_info": {
   "codemirror_mode": {
    "name": "ipython",
    "version": 3
   },
   "file_extension": ".py",
   "mimetype": "text/x-python",
   "name": "python",
   "nbconvert_exporter": "python",
   "pygments_lexer": "ipython3",
   "version": "3.9.12"
  },
  "orig_nbformat": 4,
  "vscode": {
   "interpreter": {
    "hash": "465a81004c8b420629bbf4c7d2ffa80bdc6dadbd248db23b3c6cc795d720962d"
   }
  }
 },
 "nbformat": 4,
 "nbformat_minor": 2
}
